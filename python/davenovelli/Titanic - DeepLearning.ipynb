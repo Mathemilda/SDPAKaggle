{
 "cells": [
  {
   "cell_type": "code",
   "execution_count": 1,
   "metadata": {
    "collapsed": false
   },
   "outputs": [
    {
     "data": {
      "text/plain": [
       "u'0.18.1'"
      ]
     },
     "execution_count": 1,
     "metadata": {},
     "output_type": "execute_result"
    }
   ],
   "source": [
    "import os\n",
    "import numpy as np\n",
    "import pandas as pd\n",
    "pd.__version__"
   ]
  },
  {
   "cell_type": "code",
   "execution_count": 4,
   "metadata": {
    "collapsed": false
   },
   "outputs": [
    {
     "data": {
      "text/html": [
       "<div style=\"overflow:auto\"><table style=\"width:50%\"><tr><td>H2O cluster uptime: </td>\n",
       "<td>6 minutes 5 seconds 138 milliseconds </td></tr>\n",
       "<tr><td>H2O cluster version: </td>\n",
       "<td>3.8.2.3</td></tr>\n",
       "<tr><td>H2O cluster name: </td>\n",
       "<td>H2O_started_from_python_dlnovell_hat575</td></tr>\n",
       "<tr><td>H2O cluster total nodes: </td>\n",
       "<td>1</td></tr>\n",
       "<tr><td>H2O cluster total free memory: </td>\n",
       "<td>1.67 GB</td></tr>\n",
       "<tr><td>H2O cluster total cores: </td>\n",
       "<td>2</td></tr>\n",
       "<tr><td>H2O cluster allowed cores: </td>\n",
       "<td>2</td></tr>\n",
       "<tr><td>H2O cluster healthy: </td>\n",
       "<td>True</td></tr>\n",
       "<tr><td>H2O Connection ip: </td>\n",
       "<td>127.0.0.1</td></tr>\n",
       "<tr><td>H2O Connection port: </td>\n",
       "<td>54321</td></tr>\n",
       "<tr><td>H2O Connection proxy: </td>\n",
       "<td>None</td></tr>\n",
       "<tr><td>Python Version: </td>\n",
       "<td>2.7.11</td></tr></table></div>"
      ],
      "text/plain": [
       "------------------------------  ---------------------------------------\n",
       "H2O cluster uptime:             6 minutes 5 seconds 138 milliseconds\n",
       "H2O cluster version:            3.8.2.3\n",
       "H2O cluster name:               H2O_started_from_python_dlnovell_hat575\n",
       "H2O cluster total nodes:        1\n",
       "H2O cluster total free memory:  1.67 GB\n",
       "H2O cluster total cores:        2\n",
       "H2O cluster allowed cores:      2\n",
       "H2O cluster healthy:            True\n",
       "H2O Connection ip:              127.0.0.1\n",
       "H2O Connection port:            54321\n",
       "H2O Connection proxy:\n",
       "Python Version:                 2.7.11\n",
       "------------------------------  ---------------------------------------"
      ]
     },
     "metadata": {},
     "output_type": "display_data"
    }
   ],
   "source": [
    "import h2o\n",
    "from h2o.estimators.deeplearning import H2ODeepLearningEstimator\n",
    "\n",
    "h2o.init()"
   ]
  },
  {
   "cell_type": "code",
   "execution_count": 6,
   "metadata": {
    "collapsed": false
   },
   "outputs": [
    {
     "name": "stdout",
     "output_type": "stream",
     "text": [
      "\n",
      "Parse Progress: [##################################################] 100%\n",
      "Rows:891 Cols:12\n",
      "\n",
      "Chunk compression summary: \n"
     ]
    },
    {
     "data": {
      "text/html": [
       "<div style=\"overflow:auto\"><table style=\"width:50%\"><tr><td><b>chunk_type</b></td>\n",
       "<td><b>chunk_name</b></td>\n",
       "<td><b>count</b></td>\n",
       "<td><b>count_percentage</b></td>\n",
       "<td><b>size</b></td>\n",
       "<td><b>size_percentage</b></td></tr>\n",
       "<tr><td>CBS</td>\n",
       "<td>Bits</td>\n",
       "<td>2</td>\n",
       "<td>16.666668</td>\n",
       "<td>    364  B</td>\n",
       "<td>0.8141537</td></tr>\n",
       "<tr><td>C1</td>\n",
       "<td>1-Byte Integers</td>\n",
       "<td>2</td>\n",
       "<td>16.666668</td>\n",
       "<td>    1.9 KB</td>\n",
       "<td>4.2899637</td></tr>\n",
       "<tr><td>C1N</td>\n",
       "<td>1-Byte Integers (w/o NAs)</td>\n",
       "<td>3</td>\n",
       "<td>25.0</td>\n",
       "<td>    2.8 KB</td>\n",
       "<td>6.4349456</td></tr>\n",
       "<tr><td>C2</td>\n",
       "<td>2-Byte Integers</td>\n",
       "<td>1</td>\n",
       "<td>8.333334</td>\n",
       "<td>    1.8 KB</td>\n",
       "<td>4.1378694</td></tr>\n",
       "<tr><td>C2S</td>\n",
       "<td>2-Byte Fractions</td>\n",
       "<td>1</td>\n",
       "<td>8.333334</td>\n",
       "<td>    1.8 KB</td>\n",
       "<td>4.173656</td></tr>\n",
       "<tr><td>C4</td>\n",
       "<td>4-Byte Integers</td>\n",
       "<td>1</td>\n",
       "<td>8.333334</td>\n",
       "<td>    3.5 KB</td>\n",
       "<td>8.123644</td></tr>\n",
       "<tr><td>C4S</td>\n",
       "<td>4-Byte Fractions</td>\n",
       "<td>1</td>\n",
       "<td>8.333334</td>\n",
       "<td>    3.6 KB</td>\n",
       "<td>8.159431</td></tr>\n",
       "<tr><td>CStr</td>\n",
       "<td>String</td>\n",
       "<td>1</td>\n",
       "<td>8.333334</td>\n",
       "<td>   27.9 KB</td>\n",
       "<td>63.866337</td></tr></table></div>"
      ],
      "text/plain": [
       "chunk_type    chunk_name                 count    count_percentage    size     size_percentage\n",
       "------------  -------------------------  -------  ------------------  -------  -----------------\n",
       "CBS           Bits                       2        16.6667             364  B   0.814154\n",
       "C1            1-Byte Integers            2        16.6667             1.9 KB   4.28996\n",
       "C1N           1-Byte Integers (w/o NAs)  3        25                  2.8 KB   6.43495\n",
       "C2            2-Byte Integers            1        8.33333             1.8 KB   4.13787\n",
       "C2S           2-Byte Fractions           1        8.33333             1.8 KB   4.17366\n",
       "C4            4-Byte Integers            1        8.33333             3.5 KB   8.12364\n",
       "C4S           4-Byte Fractions           1        8.33333             3.6 KB   8.15943\n",
       "CStr          String                     1        8.33333             27.9 KB  63.8663"
      ]
     },
     "metadata": {},
     "output_type": "display_data"
    },
    {
     "name": "stdout",
     "output_type": "stream",
     "text": [
      "\n",
      "Frame distribution summary: \n"
     ]
    },
    {
     "data": {
      "text/html": [
       "<div style=\"overflow:auto\"><table style=\"width:50%\"><tr><td><b></b></td>\n",
       "<td><b>size</b></td>\n",
       "<td><b>number_of_rows</b></td>\n",
       "<td><b>number_of_chunks_per_column</b></td>\n",
       "<td><b>number_of_chunks</b></td></tr>\n",
       "<tr><td>127.0.0.1:54321</td>\n",
       "<td>   43.7 KB</td>\n",
       "<td>891.0</td>\n",
       "<td>1.0</td>\n",
       "<td>12.0</td></tr>\n",
       "<tr><td>mean</td>\n",
       "<td>   43.7 KB</td>\n",
       "<td>891.0</td>\n",
       "<td>1.0</td>\n",
       "<td>12.0</td></tr>\n",
       "<tr><td>min</td>\n",
       "<td>   43.7 KB</td>\n",
       "<td>891.0</td>\n",
       "<td>1.0</td>\n",
       "<td>12.0</td></tr>\n",
       "<tr><td>max</td>\n",
       "<td>   43.7 KB</td>\n",
       "<td>891.0</td>\n",
       "<td>1.0</td>\n",
       "<td>12.0</td></tr>\n",
       "<tr><td>stddev</td>\n",
       "<td>      0  B</td>\n",
       "<td>0.0</td>\n",
       "<td>0.0</td>\n",
       "<td>0.0</td></tr>\n",
       "<tr><td>total</td>\n",
       "<td>   43.7 KB</td>\n",
       "<td>891.0</td>\n",
       "<td>1.0</td>\n",
       "<td>12.0</td></tr></table></div>"
      ],
      "text/plain": [
       "                 size     number_of_rows    number_of_chunks_per_column    number_of_chunks\n",
       "---------------  -------  ----------------  -----------------------------  ------------------\n",
       "127.0.0.1:54321  43.7 KB  891               1                              12\n",
       "mean             43.7 KB  891               1                              12\n",
       "min              43.7 KB  891               1                              12\n",
       "max              43.7 KB  891               1                              12\n",
       "stddev           0  B     0                 0                              0\n",
       "total            43.7 KB  891               1                              12"
      ]
     },
     "metadata": {},
     "output_type": "display_data"
    },
    {
     "name": "stdout",
     "output_type": "stream",
     "text": [
      "\n",
      "\n"
     ]
    },
    {
     "data": {
      "text/html": [
       "<table>\n",
       "<tr><th>       </th><th>PassengerId  </th><th>Survived      </th><th>Pclass        </th><th>Name                                               </th><th>Sex           </th><th>Age          </th><th>SibSp         </th><th>Parch         </th><th>Ticket       </th><th>Fare         </th><th>Cabin  </th><th>Embarked  </th></tr>\n",
       "<tr><td>type   </td><td>int          </td><td>int           </td><td>int           </td><td>string                                             </td><td>enum          </td><td>real         </td><td>int           </td><td>int           </td><td>int          </td><td>real         </td><td>enum   </td><td>enum      </td></tr>\n",
       "<tr><td>mins   </td><td>1.0          </td><td>0.0           </td><td>1.0           </td><td>NaN                                                </td><td>0.0           </td><td>0.42         </td><td>0.0           </td><td>0.0           </td><td>693.0        </td><td>0.0          </td><td>0.0    </td><td>0.0       </td></tr>\n",
       "<tr><td>mean   </td><td>446.0        </td><td>0.383838383838</td><td>2.30864197531 </td><td>NaN                                                </td><td>0.64758698092 </td><td>29.6991176471</td><td>0.523007856341</td><td>0.381593714927</td><td>260318.549168</td><td>32.2042079686</td><td>NaN    </td><td>NaN       </td></tr>\n",
       "<tr><td>maxs   </td><td>891.0        </td><td>1.0           </td><td>3.0           </td><td>NaN                                                </td><td>1.0           </td><td>80.0         </td><td>8.0           </td><td>6.0           </td><td>3101298.0    </td><td>512.3292     </td><td>146.0  </td><td>2.0       </td></tr>\n",
       "<tr><td>sigma  </td><td>257.353842015</td><td>0.486592454265</td><td>0.836071240977</td><td>NaN                                                </td><td>0.477990070896</td><td>14.5264973323</td><td>1.10274343229 </td><td>0.80605722113 </td><td>471609.268688</td><td>49.6934285972</td><td>NaN    </td><td>NaN       </td></tr>\n",
       "<tr><td>zeros  </td><td>0            </td><td>549           </td><td>0             </td><td>0                                                  </td><td>314           </td><td>0            </td><td>608           </td><td>678           </td><td>0            </td><td>15           </td><td>1      </td><td>168       </td></tr>\n",
       "<tr><td>missing</td><td>0            </td><td>0             </td><td>0             </td><td>0                                                  </td><td>0             </td><td>177          </td><td>0             </td><td>0             </td><td>230          </td><td>0            </td><td>687    </td><td>2         </td></tr>\n",
       "<tr><td>0      </td><td>1.0          </td><td>0.0           </td><td>3.0           </td><td>Braund, Mr. Owen Harris                            </td><td>male          </td><td>22.0         </td><td>1.0           </td><td>0.0           </td><td>nan          </td><td>7.25         </td><td>       </td><td>S         </td></tr>\n",
       "<tr><td>1      </td><td>2.0          </td><td>1.0           </td><td>1.0           </td><td>Cumings, Mrs. John Bradley (Florence Briggs Thayer)</td><td>female        </td><td>38.0         </td><td>1.0           </td><td>0.0           </td><td>nan          </td><td>71.2833      </td><td>C85    </td><td>C         </td></tr>\n",
       "<tr><td>2      </td><td>3.0          </td><td>1.0           </td><td>3.0           </td><td>Heikkinen, Miss. Laina                             </td><td>female        </td><td>26.0         </td><td>0.0           </td><td>0.0           </td><td>nan          </td><td>7.925        </td><td>       </td><td>S         </td></tr>\n",
       "<tr><td>3      </td><td>4.0          </td><td>1.0           </td><td>1.0           </td><td>Futrelle, Mrs. Jacques Heath (Lily May Peel)       </td><td>female        </td><td>35.0         </td><td>1.0           </td><td>0.0           </td><td>113803.0     </td><td>53.1         </td><td>C123   </td><td>S         </td></tr>\n",
       "<tr><td>4      </td><td>5.0          </td><td>0.0           </td><td>3.0           </td><td>Allen, Mr. William Henry                           </td><td>male          </td><td>35.0         </td><td>0.0           </td><td>0.0           </td><td>373450.0     </td><td>8.05         </td><td>       </td><td>S         </td></tr>\n",
       "<tr><td>5      </td><td>6.0          </td><td>0.0           </td><td>3.0           </td><td>Moran, Mr. James                                   </td><td>male          </td><td>nan          </td><td>0.0           </td><td>0.0           </td><td>330877.0     </td><td>8.4583       </td><td>       </td><td>Q         </td></tr>\n",
       "<tr><td>6      </td><td>7.0          </td><td>0.0           </td><td>1.0           </td><td>McCarthy, Mr. Timothy J                            </td><td>male          </td><td>54.0         </td><td>0.0           </td><td>0.0           </td><td>17463.0      </td><td>51.8625      </td><td>E46    </td><td>S         </td></tr>\n",
       "<tr><td>7      </td><td>8.0          </td><td>0.0           </td><td>3.0           </td><td>Palsson, Master. Gosta Leonard                     </td><td>male          </td><td>2.0          </td><td>3.0           </td><td>1.0           </td><td>349909.0     </td><td>21.075       </td><td>       </td><td>S         </td></tr>\n",
       "<tr><td>8      </td><td>9.0          </td><td>1.0           </td><td>3.0           </td><td>Johnson, Mrs. Oscar W (Elisabeth Vilhelmina Berg)  </td><td>female        </td><td>27.0         </td><td>0.0           </td><td>2.0           </td><td>347742.0     </td><td>11.1333      </td><td>       </td><td>S         </td></tr>\n",
       "<tr><td>9      </td><td>10.0         </td><td>1.0           </td><td>2.0           </td><td>Nasser, Mrs. Nicholas (Adele Achem)                </td><td>female        </td><td>14.0         </td><td>1.0           </td><td>0.0           </td><td>237736.0     </td><td>30.0708      </td><td>       </td><td>C         </td></tr>\n",
       "</table>"
      ]
     },
     "metadata": {},
     "output_type": "display_data"
    }
   ],
   "source": [
    "train = h2o.import_file(os.path.abspath(\"../../data/train.csv\"))\n",
    "train.describe()"
   ]
  },
  {
   "cell_type": "code",
   "execution_count": null,
   "metadata": {
    "collapsed": true
   },
   "outputs": [],
   "source": []
  }
 ],
 "metadata": {
  "kernelspec": {
   "display_name": "Python 2",
   "language": "python",
   "name": "python2"
  },
  "language_info": {
   "codemirror_mode": {
    "name": "ipython",
    "version": 2
   },
   "file_extension": ".py",
   "mimetype": "text/x-python",
   "name": "python",
   "nbconvert_exporter": "python",
   "pygments_lexer": "ipython2",
   "version": "2.7.11"
  }
 },
 "nbformat": 4,
 "nbformat_minor": 0
}
